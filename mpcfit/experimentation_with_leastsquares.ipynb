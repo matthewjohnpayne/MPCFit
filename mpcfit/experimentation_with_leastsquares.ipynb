{
 "cells": [
  {
   "cell_type": "markdown",
   "metadata": {},
   "source": [
    "### Nov 2018\n",
    "### MJP\n",
    "# Want to experiment with use of scipy's optimization functions:\n",
    " -  scipy.optimize.least_squares / scipy.optimize.minimize / scipy.optimize.curve_fit\n",
    "### Purpose is to understand how to use them as a (temporary?) part of developing a robust fitting routine for use in the MPC's NBody code"
   ]
  },
  {
   "cell_type": "code",
   "execution_count": 11,
   "metadata": {},
   "outputs": [],
   "source": [
    "%matplotlib inline\n",
    "import numpy as np\n",
    "from scipy.optimize import least_squares\n",
    "import matplotlib.pyplot as plt"
   ]
  },
  {
   "cell_type": "markdown",
   "metadata": {},
   "source": [
    "# Least-squares seems to be the \"lowest-level\" function\n",
    " - https://docs.scipy.org/doc/scipy/reference/generated/scipy.optimize.least_squares.html#scipy.optimize.least_squares\n",
    " - \"Given the residuals f(x) (an m-dimensional real function of n real variables) and the loss function rho(s) (a scalar function), least_squares finds a local minimum of the cost function F(x): ...\"\n",
    " "
   ]
  },
  {
   "cell_type": "code",
   "execution_count": 20,
   "metadata": {},
   "outputs": [
    {
     "data": {
      "image/png": "[encoded data removed]",
      "text/plain": [
       "<Figure size 432x288 with 1 Axes>"
      ]
     },
     "metadata": {},
     "output_type": "display_data"
    }
   ],
   "source": [
    "# Follow ingedients in https://docs.scipy.org/doc/scipy/reference/generated/scipy.optimize.least_squares.html#scipy.optimize.least_squares\n",
    "\n",
    "# Basic model form \n",
    "def modelFunc(x,t):\n",
    "    return x[0] + x[1] * np.exp(x[2] * t)\n",
    "\n",
    "# Make data according to model, but add noise\n",
    "def synthesizeData(x,t, noise=0.1, n_outliers=3 , random_state=0):\n",
    "    y = modelFunc(x,t)\n",
    "    rnd = np.random.RandomState(random_state)\n",
    "    error = noise * rnd.randn(t.size)\n",
    "    outliers = rnd.randint(0, t.size, n_outliers) \n",
    "    error[outliers] *= 10\n",
    "    return y + error\n",
    "x_True = np.array([0.5,2.0,-1.0])\n",
    "t_Data = np.arange(0,21,1)\n",
    "y_Data = synthesizeData(x_True, t_Data)\n",
    "\n",
    "# Define function for computing residuals  \n",
    "def resFunc(x, t, y):\n",
    "    return modelFunc(x,t) - y\n",
    "    #return x[0] + x[1] * np.exp(x[2] * t) - y\n",
    "    \n",
    "# initial estimate of parameters.\n",
    "x0 = np.array([1.0, 1.0, 0.0])\n",
    "\n",
    "# L.S.Fit\n",
    "res_lsq = least_squares(resFunc, x0, args=(t_Data, y_Data))\n",
    "\n",
    "# L.S. Fit with differing loss-functions \n",
    "# Now compute two solutions with two different robust loss functions. The parameter f_scale is set to 0.1, meaning that inlier residuals should not significantly exceed 0.1 (the noise level used).\n",
    "res_soft_l1 = least_squares(resFunc, x0, loss='soft_l1', f_scale=0.1, args=(t_Data, y_Data))\n",
    "res_log     = least_squares(resFunc, x0, loss='cauchy',  f_scale=0.1, args=(t_Data, y_Data))\n",
    "\n",
    "# Plot results \n",
    "y_true = modelFunc(x_True,     t_Data)\n",
    "y_lsq  = modelFunc(res_lsq.x, t_Data )\n",
    "y_soft_l1 = modelFunc(res_soft_l1.x, t_Data)\n",
    "y_log     = modelFunc(res_log.x, t_Data)\n",
    "\n",
    "plt.plot(t_Data, y_Data, 'o')\n",
    "plt.plot(t_Data, y_true, 'k', linewidth=2, label='true')\n",
    "plt.plot(t_Data, y_lsq,       label='linear loss')\n",
    "plt.plot(t_Data, y_soft_l1  , label='soft_l1 loss ')\n",
    "plt.plot(t_Data, y_log,       label='log (cauchy) loss')\n",
    "\n",
    "plt.xlabel(\"t\")\n",
    "plt.ylabel(\"y\")\n",
    "plt.legend()\n",
    "plt.show()"
   ]
  },
  {
   "cell_type": "markdown",
   "metadata": {},
   "source": [
    "### Here I experiment with an analytic function & its jacobian  "
   ]
  },
  {
   "cell_type": "code",
   "execution_count": 3,
   "metadata": {},
   "outputs": [],
   "source": [
    "#https://www.reddit.com/r/learnpython/comments/6tcy6m/how_to_input_jacobian_function_in/\n",
    "    \n",
    "def func(t, K, zeta, omega_n, omega_d, phi):\n",
    "    return  K*np.exp(-zeta*omega_n*t)*np.cos(omega_d*t - phi)\n",
    "def jacobian(t, K, zeta, omega_n, omega_d, phi):\n",
    "    dK     =np.exp(-omega_n*t*zeta)*np.cos(omega_d*t - phi)\n",
    "    dzeta  =-K*omega_n*t*np.exp(-omega_n*t*zeta)*np.cos(omega_d*t - phi)\n",
    "    domegan=-K*t*zeta*np.exp(-omega_n*t*zeta)*np.cos(omega_d*t - phi)\n",
    "    domegad=-K*t*np.exp(-omega_n*t*zeta)*np.sin(omega_d*t - phi)   # stemmer med mathcad\n",
    "    dphi   =K*np.exp(-omega_n*t*zeta)*np.sin(omega_d*t - phi) \n",
    "    return np.transpose([dK,dzeta,domegan,domegad,dphi])\n",
    "\n",
    "opt.curve_fit(func, Time, Data1,jac=jacobian)\n"
   ]
  }
 ],
 "metadata": {
  "kernelspec": {
   "display_name": "Python [conda env:anaconda]",
   "language": "python",
   "name": "conda-env-anaconda-py"
  },
  "language_info": {
   "codemirror_mode": {
    "name": "ipython",
    "version": 3
   },
   "file_extension": ".py",
   "mimetype": "text/x-python",
   "name": "python",
   "nbconvert_exporter": "python",
   "pygments_lexer": "ipython3",
   "version": "3.5.5"
  }
 },
 "nbformat": 4,
 "nbformat_minor": 2
}
